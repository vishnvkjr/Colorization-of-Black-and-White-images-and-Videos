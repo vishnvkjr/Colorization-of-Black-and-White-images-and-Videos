{
 "cells": [
  {
   "cell_type": "code",
   "execution_count": 1,
   "id": "816c7017",
   "metadata": {},
   "outputs": [
    {
     "name": "stdout",
     "output_type": "stream",
     "text": [
      "loading models.....\n"
     ]
    }
   ],
   "source": [
    "import cv2\n",
    "import numpy as np\n",
    "\n",
    "# load pre-trained models\n",
    "print(\"loading models.....\")\n",
    "net = cv2.dnn.readNetFromCaffe('colorization_deploy_v2.prototxt', 'colorization_release_v2.caffemodel')\n",
    "pts = np.load('pts_in_hull.npy')\n",
    "\n",
    "# configure network for colorization\n",
    "class8 = net.getLayerId(\"class8_ab\")\n",
    "conv8 = net.getLayerId(\"conv8_313_rh\")\n",
    "pts = pts.transpose().reshape(2, 313, 1, 1)\n",
    "net.getLayer(class8).blobs = [pts.astype(\"float32\")]\n",
    "net.getLayer(conv8).blobs = [np.full([1, 313], 2.606, dtype='float32')]\n",
    "\n"
   ]
  },
  {
   "cell_type": "code",
   "execution_count": null,
   "id": "e1dfeaf6",
   "metadata": {},
   "outputs": [],
   "source": [
    "# read black and white input video\n",
    "input_video_path = \"waves2.mp4\"\n",
    "cap = cv2.VideoCapture(input_video_path)\n",
    "fps = cap.get(cv2.CAP_PROP_FPS)\n",
    "frame_size = (int(cap.get(cv2.CAP_PROP_FRAME_WIDTH)), int(cap.get(cv2.CAP_PROP_FRAME_HEIGHT)))\n",
    "num_frames = int(cap.get(cv2.CAP_PROP_FRAME_COUNT))\n",
    "\n",
    "# create output video writer\n",
    "fourcc = cv2.VideoWriter_fourcc(*'mp4v')\n",
    "output_video_path = \"waves2_colorized.mp4\"\n",
    "out = cv2.VideoWriter(output_video_path, fourcc, fps, frame_size)\n",
    "\n",
    "# process frames and write to output video\n",
    "while cap.isOpened():\n",
    "    ret, frame = cap.read()\n",
    "    if not ret:\n",
    "        break\n",
    "    \n",
    "    # prepare black and white frame for colorization\n",
    "    scaled = frame.astype(\"float32\") / 255.0\n",
    "    lab = cv2.cvtColor(scaled, cv2.COLOR_BGR2LAB)\n",
    "    resized = cv2.resize(lab, (224, 224))\n",
    "    L = cv2.split(resized)[0]\n",
    "    L -= 50\n",
    "    net.setInput(cv2.dnn.blobFromImage(L))\n",
    "    \n",
    "    # colorize frame\n",
    "    ab = net.forward()[0, :, :, :].transpose((1, 2, 0))\n",
    "    ab = cv2.resize(ab, (frame.shape[1], frame.shape[0]))\n",
    "    L = cv2.split(lab)[0]\n",
    "    colorized = np.concatenate((L[:, :, np.newaxis], ab), axis=2)\n",
    "    colorized = cv2.cvtColor(colorized, cv2.COLOR_LAB2BGR)\n",
    "    colorized = np.clip(colorized, 0, 1)\n",
    "    colorized = (255 * colorized).astype(\"uint8\")\n",
    "    \n",
    "    # write colorized frame to output video\n",
    "    out.write(colorized)\n",
    "\n",
    "cap.release()\n",
    "out.release()\n",
    "cv2.destroyAllWindows()\n"
   ]
  },
  {
   "cell_type": "code",
   "execution_count": null,
   "id": "d831acae",
   "metadata": {},
   "outputs": [],
   "source": []
  }
 ],
 "metadata": {
  "kernelspec": {
   "display_name": "Python 3 (ipykernel)",
   "language": "python",
   "name": "python3"
  },
  "language_info": {
   "codemirror_mode": {
    "name": "ipython",
    "version": 3
   },
   "file_extension": ".py",
   "mimetype": "text/x-python",
   "name": "python",
   "nbconvert_exporter": "python",
   "pygments_lexer": "ipython3",
   "version": "3.9.7"
  }
 },
 "nbformat": 4,
 "nbformat_minor": 5
}
